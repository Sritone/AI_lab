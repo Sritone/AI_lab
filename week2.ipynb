{
 "cells": [
  {
   "cell_type": "markdown",
   "id": "5cc9c13e",
   "metadata": {},
   "source": [
    "# AI_lab - PyTorch GPU 환경 테스트\n",
    "조현준 | 2021041014\n",
    "\n",
    "- 실행 날짜: 2025-09-11\n",
    "- 환경: Python 3.13.7, CUDA 11.8, PyTorch 2.7.1+cu118\n"
   ]
  },
  {
   "cell_type": "code",
   "execution_count": null,
   "id": "7e7aa23c",
   "metadata": {},
   "outputs": [],
   "source": [
    "# Check if PyTorch is available and import it\n",
    "try:\n",
    "    import torch\n",
    "    print(\"✓ PyTorch is successfully imported!\")\n",
    "    print(f\"PyTorch version: {torch.__version__}\")\n",
    "\n",
    "    # Check if CUDA is available\n",
    "    if torch.cuda.is_available():\n",
    "        print(f\"✓ CUDA is available! Device count: {torch.cuda.device_count()}\")\n",
    "        print(f\"Current CUDA device: {torch.cuda.get_device_name(0)}\")\n",
    "\n",
    "        # Create a simple tensor on GPU\n",
    "        test_tensor = torch.tensor([1, 2, 3, 4, 5], device='cuda')\n",
    "    else:\n",
    "        print(\"CUDA is not available. Using CPU.\")\n",
    "        test_tensor = torch.tensor([1, 2, 3, 4, 5])\n",
    "\n",
    "    print(f\"✓ Test tensor created: {test_tensor}\")\n",
    "    print(f\"Tensor shape: {test_tensor.shape}\")\n",
    "    print(f\"Tensor device: {test_tensor.device}\")\n",
    "\n",
    "    # Basic tensor operation\n",
    "    squared_tensor = test_tensor ** 2\n",
    "    print(f\"✓ Basic operation test (squaring): {squared_tensor}\")\n",
    "\n",
    "    print(\"\\n🎉 PyTorch is working correctly!\")\n",
    "\n",
    "except ImportError as e:\n",
    "    print(\"❌ PyTorch is not installed or not available\")\n",
    "    print(f\"Error details: {e}\")\n",
    "    print(\"Please install PyTorch using: pip install torch\")\n",
    "\n",
    "except Exception as e:\n",
    "    print(f\"❌ An error occurred while testing PyTorch: {e}\")\n"
   ]
  },
  {
   "cell_type": "code",
   "execution_count": null,
   "id": "13772894",
   "metadata": {},
   "outputs": [],
   "source": [
    "✓ PyTorch is successfully imported!\n",
    "PyTorch version: 2.7.1+cu118\n",
    "✓ CUDA is available! Device count: 1\n",
    "Current CUDA device: NVIDIA GeForce RTX 4070 Laptop GPU\n",
    "✓ Test tensor created: tensor([1, 2, 3, 4, 5], device='cuda:0')\n",
    "Tensor shape: torch.Size([5])\n",
    "Tensor device: cuda:0\n",
    "✓ Basic operation test (squaring): tensor([ 1,  4,  9, 16, 25], device='cuda:0')\n",
    "\n",
    "?? PyTorch is working correctly!"
   ]
  }
 ],
 "metadata": {
  "kernelspec": {
   "display_name": "Python 3 (PyTorch GPU)",
   "language": "python",
   "name": "python3"
  },
  "language_info": {
   "name": "python",
   "version": "3.13.7"
  }
 },
 "nbformat": 4,
 "nbformat_minor": 5
}
